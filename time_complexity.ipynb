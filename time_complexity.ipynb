{
 "cells": [
  {
   "cell_type": "markdown",
   "metadata": {},
   "source": [
    "# Big O Notation and Time Complexity\n",
    "## Linear\n",
    "$$O(n)$$\n",
    "$$T=a*n+b$$\n",
    "$$T=cn^2 + dn + e $$\n",
    "$5\\cdot 5$\n",
    "\n",
    "Find the tastest growing term\n",
    "\n",
    "Take out the coefficient\n",
    "\n",
    "\n",
    "## Constant Time\n",
    "\n",
    "Doesn't matter the size of data $$O(1)$$\n",
    "\n",
    "## Quadratic time\n",
    "\n",
    "The function take 4 times more time for each 2 extra elements $$O(n^2)$$\n"
   ]
  },
  {
   "cell_type": "code",
   "execution_count": null,
   "metadata": {},
   "outputs": [],
   "source": []
  }
 ],
 "metadata": {
  "kernelspec": {
   "display_name": "Python 3",
   "language": "python",
   "name": "python3"
  },
  "language_info": {
   "codemirror_mode": {
    "name": "ipython",
    "version": 3
   },
   "file_extension": ".py",
   "mimetype": "text/x-python",
   "name": "python",
   "nbconvert_exporter": "python",
   "pygments_lexer": "ipython3",
   "version": "3.8.10"
  }
 },
 "nbformat": 4,
 "nbformat_minor": 4
}
